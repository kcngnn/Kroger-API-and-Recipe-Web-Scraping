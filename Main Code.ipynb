{
 "cells": [
  {
   "cell_type": "markdown",
   "metadata": {
    "id": "8fqzVYA8iHf1"
   },
   "source": [
    "# KROGER API AND WEB SCRAPING\n",
    "\n"
   ]
  },
  {
   "cell_type": "markdown",
   "metadata": {
    "id": "p_8suBrukRU0"
   },
   "source": [
    "### Background Information\n",
    "The dataset that is being constructed in this project will be a combination of ingredients needed for recipes from allrecipes.com and the matching products available to purchase from a Kroger grocery store. The goal of this is to create a dataset that maps the foods with suggestions for purchase at Kroger that could allow for potential future analysis of topics like the prices of popular recipes. This dataset could be potentially used to suggest the best foods for recipes based on prices.\n",
    "\n",
    "This workbook is structured as below: \n",
    "- **Functions:** The necessary functions defined for recipe web scraping, authorization granted to access Kroger API, data to be pulled from Kroger API and combination of recipes and suggestions to purchase from Kroger.\n",
    "- **Demonstration:** This demonstrates how the functions combine to continuously build dataset of a set size or for a set amount of time. The only inputs required are either a max number of recipes or a time limit and output is a dictionary/dataframe that includes suggestions to purchase from Kroger with details on UPCs, product names, prices, sizes, and units. The script will continuously scrape ingredients from allrecipes.com and then perform calls to the Kroger API for matching products until a stop condidtion is met. This section is accompanied with the README document."
   ]
  },
  {
   "cell_type": "markdown",
   "metadata": {
    "id": "YnjfQ-nckRU1"
   },
   "source": [
    "### Functions"
   ]
  },
  {
   "cell_type": "code",
   "execution_count": 3,
   "metadata": {
    "colab": {
     "base_uri": "https://localhost:8080/"
    },
    "id": "WPhKS-IRG1a6",
    "outputId": "190e2069-161f-4ae6-eddb-88ce9aeb38aa"
   },
   "outputs": [
    {
     "name": "stdout",
     "output_type": "stream",
     "text": [
      "Requirement already satisfied: robotexclusionrulesparser in c:\\users\\owner\\anaconda3\\lib\\site-packages (1.7.1)\n",
      "Note: you may need to restart the kernel to use updated packages.\n"
     ]
    }
   ],
   "source": [
    "pip install robotexclusionrulesparser"
   ]
  },
  {
   "cell_type": "code",
   "execution_count": 1,
   "metadata": {
    "id": "OCWyWHfakRU1"
   },
   "outputs": [],
   "source": [
    "# import necessary packages\n",
    "import requests\n",
    "import string\n",
    "import random\n",
    "import json  \n",
    "import pandas as pd\n",
    "import numpy as np\n",
    "from pandas import json_normalize\n",
    "from pprint import pprint\n",
    "import time\n",
    "from bs4 import BeautifulSoup\n",
    "import urllib\n",
    "import robotexclusionrulesparser\n",
    "import re\n",
    "import urllib.request\n",
    "import datetime\n",
    "\n",
    "rp = robotexclusionrulesparser.RobotFileParserLookalike()"
   ]
  },
  {
   "cell_type": "markdown",
   "metadata": {
    "id": "sWQo5M3ykRU1"
   },
   "source": [
    "##### Recipe Web Scaping"
   ]
  },
  {
   "cell_type": "code",
   "execution_count": 2,
   "metadata": {
    "id": "TQtPBl_WGaGY"
   },
   "outputs": [],
   "source": [
    "# Functions for finding allowable paths and retrieving links\n",
    "# Taken from class excercises\n",
    "\n",
    "def allowable_paths(URL = \"https://www.allrecipes.com/\"):\n",
    "    base_url = re.findall(\"^.*\\.[a-z]+\\/\", URL)[0]\n",
    "    robots_URL = base_url + \"robots.txt\"\n",
    "\n",
    "    # Make the request\n",
    "    req = urllib.request.Request(url = robots_URL)\n",
    "    # Open the URL\n",
    "    handler = urllib.request.urlopen(req)\n",
    "    # Read/view the data as a string\n",
    "    robots = handler.read().decode('utf-8')\n",
    "    robots_list = re.split(\"User-[Aa]gent: (\\S+)\", robots)\n",
    "    any_robots = robots_list[robots_list.index(\"*\") + 1]\n",
    "\n",
    "    paths = [base_url + x[8:] for x in re.findall(\"Allow: [^\\n]+\", any_robots)]\n",
    "\n",
    "    return(paths, robots)\n",
    "\n",
    "\n",
    "def allowed_links(URL):\n",
    "    ## get/parse the robots file\n",
    "    base_url = re.findall(\"^.*\\.[a-z]+\\/\", URL)[0]\n",
    "    paths, robots = allowable_paths(URL)\n",
    "    rp.parse(robots)\n",
    "\n",
    "    ## gather the current site's data\n",
    "    html_text = urllib.request.urlopen(URL).read()\n",
    "    soup = BeautifulSoup(html_text, 'html.parser')\n",
    "\n",
    "    ## collect the access information\n",
    "    data = {}\n",
    "    for target in soup.find('body').find_all({\"a\": \"href\"}):\n",
    "        if target.get('href', False):\n",
    "            link = target['href']\n",
    "            if link[0] == \"/\":\n",
    "                link = base_url + link[1:]\n",
    "                data[link] = rp.can_fetch(\"*\", link)\n",
    "            elif link.startswith(base_url):\n",
    "                data[link] = rp.can_fetch(\"*\", link)\n",
    "    \n",
    "    return(data)"
   ]
  },
  {
   "cell_type": "code",
   "execution_count": 3,
   "metadata": {
    "id": "mWqMXAiSHWXw"
   },
   "outputs": [],
   "source": [
    "# Function to find a link to a new recipe in html code\n",
    "# retrieves a url to a recipe that has not already been grabbed\n",
    "# or if no url is available with a /recipe/ in the url, grabs the first available /recipes/ url \n",
    "\n",
    "def find_recipe(url, recipe_numbers):\n",
    "    new_url = ''\n",
    "    links = allowed_links(url)\n",
    "    link_keys = links.keys()\n",
    "    \n",
    "    for link in link_keys: \n",
    "        split_link = link.split('/')\n",
    "        if (split_link[3] == 'recipe'):\n",
    "            if int(split_link[4]) not in recipe_numbers:   \n",
    "                recipe_numbers.append(int(split_link[4]))\n",
    "                new_url = link\n",
    "                break\n",
    "\n",
    "    if new_url == '': \n",
    "\n",
    "        for link in link_keys: \n",
    "            split_link = link.split('/')\n",
    "            if (split_link[3] == 'recipes'):\n",
    "                new_url = link                       \n",
    "                break\n",
    "\n",
    "    return new_url, recipe_numbers"
   ]
  },
  {
   "cell_type": "code",
   "execution_count": 4,
   "metadata": {},
   "outputs": [],
   "source": [
    "# Funtion to call the find_recipe function as many times as needed to get a needed URL to a recipe that \n",
    "# has not been extracted from allrecipes.com yet\n",
    "\n",
    "def get_link(url, recipe_numbers):\n",
    "    [new_url, recipe_numbers] = find_recipe(url, recipe_numbers)\n",
    "    split_url = new_url.split('/')\n",
    "\n",
    "    while split_url[3] != 'recipe': \n",
    "        [new_url, recipe_numbers] = find_recipe(new_url, recipe_numbers)\n",
    "        split_url = new_url.split('/')\n",
    "\n",
    "    return new_url, recipe_numbers"
   ]
  },
  {
   "cell_type": "code",
   "execution_count": 5,
   "metadata": {},
   "outputs": [],
   "source": [
    "# Function to return a dictionary that contains the title of the recipe and the ingredients\n",
    "# The ingredients returned have been stripped of measurement or extraneous descriptive words and numbers\n",
    "\n",
    "def get_ingredients(url):\n",
    "    html_text = urllib.request.urlopen(url).read()\n",
    "    soup = BeautifulSoup(html_text, 'html.parser')\n",
    "    \n",
    "    split_link = url.split('/')\n",
    "    recipe_num = split_link[4]\n",
    "\n",
    "    removal_words = ['cup', 'ounce', 'teaspoon', 'tablespoon', 'cups', 'teaspoons', 'tablespoons', 'ounces', 'shredded', 'to', 'taste', 'slice', 'slices']\n",
    "    food_dict = {}\n",
    "\n",
    "    script = soup.find_all('span', {'class':'ingredients-item-name'})\n",
    "\n",
    "    title = soup.find('title')\n",
    "\n",
    "    title = title.text\n",
    "    split_title = title.split('|')\n",
    "    title = recipe_num + ' ' + split_title[0]\n",
    "\n",
    "    if script != []:\n",
    "        food = []\n",
    "        for ing in script:\n",
    "            ing = ing.text\n",
    "            ing = ing.strip()\n",
    "            \n",
    "            if ing.find(',') != -1: \n",
    "                comma_ind = ing.index(',')\n",
    "                ing = ing[:comma_ind]\n",
    "\n",
    "            words = ing.split()\n",
    "            new_words = []\n",
    "            for i in words:\n",
    "                if  not i.isnumeric():\n",
    "                    if (i not in removal_words) & (i[0] != '(') & (i[-1] != ')'):\n",
    "                        new_words.append(i)\n",
    "            ingredient = ' '.join(new_words)\n",
    "            food.append(ingredient)\n",
    "    food_dict[title] = food\n",
    "\n",
    "    return food_dict"
   ]
  },
  {
   "cell_type": "markdown",
   "metadata": {
    "id": "Q-CS9UYMkRU1"
   },
   "source": [
    "##### Kroger API"
   ]
  },
  {
   "cell_type": "code",
   "execution_count": 6,
   "metadata": {
    "id": "0t5MB5xWiHgC"
   },
   "outputs": [],
   "source": [
    "# Function to request authentication URL\n",
    "\n",
    "def kroger_auth(client_id,redirect_uri):\n",
    "    auth_params = {'scope': 'product.compact',\n",
    "                   'response_type': 'code',\n",
    "                   'client_id': client_id,\n",
    "                   'redirect_uri': redirect_uri,\n",
    "                   }\n",
    "\n",
    "    html = requests.get(\"https://api.kroger.com/v1/connect/oauth2/authorize\",\n",
    "                        params = auth_params)\n",
    "\n",
    "    # Print the link to the approval page\n",
    "    return print(html.url)"
   ]
  },
  {
   "cell_type": "code",
   "execution_count": 7,
   "metadata": {
    "id": "r-7fEWBdiHgM"
   },
   "outputs": [],
   "source": [
    "# Fuction to get access to Kroger API\n",
    "\n",
    "def kroger_access(auth_code):\n",
    "    token_url = 'https://api.kroger.com/v1/connect/oauth2/token'\n",
    "\n",
    "    qd = {'grant_type': 'authorization_code',\n",
    "          'code': auth_code,\n",
    "          'redirect_uri': redirect_uri,\n",
    "          'client_id': client_id,\n",
    "          'client_secret': client_secret}\n",
    "\n",
    "    response = requests.post(token_url, data=qd, timeout=60)\n",
    "    response = response.json()\n",
    "\n",
    "    if 'error' in response.keys():\n",
    "        return print(\"Access Unsuccessfully Granted! Please try again!\")\n",
    "    else:\n",
    "        access_token = response['access_token']\n",
    "        refresh_token = response['refresh_token']\n",
    "        return [\"Access Successfully Granted!\",access_token, refresh_token]"
   ]
  },
  {
   "cell_type": "code",
   "execution_count": 8,
   "metadata": {},
   "outputs": [],
   "source": [
    "# Function to refresh token to get a new access token after the access token in use expires after 30'\n",
    "\n",
    "def kroger_refresh(refresh_token):\n",
    "    token_url = 'https://api.kroger.com/v1/connect/oauth2/token'\n",
    "\n",
    "    qd = {'grant_type': 'refresh_token',\n",
    "          'refresh_token': refresh_token,\n",
    "          'client_id': client_id,\n",
    "          'client_secret': client_secret}\n",
    "\n",
    "    response = requests.post(token_url, data=qd, timeout=60)\n",
    "    response = response.json()\n",
    "\n",
    "    if 'error' in response.keys():\n",
    "        return print(\"Access Unsuccessfully Granted! Please try again!\")\n",
    "    else:\n",
    "        access_token = response['access_token']\n",
    "        refresh_token = response['refresh_token']\n",
    "        return [\"Access Successfully Granted!\",access_token, refresh_token]"
   ]
  },
  {
   "cell_type": "code",
   "execution_count": 9,
   "metadata": {
    "id": "VhAqKlQ5kRU1"
   },
   "outputs": [],
   "source": [
    "# Function to pull data from Kroger API by product names/categories & location id with a selected limit \n",
    "# on shown results and unpack the 'items' dictionary to get selling details on fulfillement types and prices.\n",
    "# result limit ranges between 1 and 50. category & locationid are both single string.\n",
    "\n",
    "def pull_product_data(category,resultlimit): \n",
    "    global access_token, refresh_token\n",
    "    \n",
    "    # get raw data\n",
    "    url = 'https://api.kroger.com/v1/products?filter.term='+category+'&filter.locationId=01400441&filter.limit='+str(resultlimit)\n",
    "    headers = {\"content-type\": \"application/json; charset=UTF-8\",'Authorization':'Bearer {}'.format(access_token)}\n",
    "    try:\n",
    "        response = requests.get(url, headers=headers).json()\n",
    "\n",
    "        # refresh access token if it has expired \n",
    "        if 'error' in response.keys():\n",
    "            refresh = kroger_refresh(refresh_token)\n",
    "            access_token = refresh[1]\n",
    "            refresh_token = refresh[2]\n",
    "            headers = {\"content-type\": \"application/json; charset=UTF-8\",'Authorization':'Bearer {}'.format(access_token)}\n",
    "            response = requests.get(url, headers=headers).json()\n",
    "    except:\n",
    "        response = {'data': []}\n",
    "        \n",
    "    df = json_normalize(response,record_path ='data')\n",
    "\n",
    "    # get selling details\n",
    "    items = pd.DataFrame()\n",
    "    for i in range(0,df.shape[0]):\n",
    "        temp = df['items'][i][0]\n",
    "        for info in temp.keys():\n",
    "            items.loc[i,'description'] = df.loc[i,'description']\n",
    "            if type(temp[info]) == dict:\n",
    "                for subinfo in temp[info].keys():\n",
    "                    text = str(info+'_'+subinfo)\n",
    "                    items.loc[i,text] = temp[info][subinfo]\n",
    "            else:\n",
    "                items.loc[i,info] = temp[info]\n",
    "\n",
    "    return items, access_token, refresh_token"
   ]
  },
  {
   "cell_type": "code",
   "execution_count": 10,
   "metadata": {
    "id": "eWI_5erzIpB5"
   },
   "outputs": [],
   "source": [
    "# Function to get suggestions to purchase from Kroger for one recipe\n",
    "# Final output is in dictionary format\n",
    "\n",
    "def get_suggestions(recipe,resultlimit,api_counter):\n",
    "    # list of needed information\n",
    "    upc_list_info = ['description','price_regular','size','soldBy']\n",
    "    \n",
    "    # create necessary dictionaries \n",
    "    suggestions_dict = {}\n",
    "    recipe_dict = {}\n",
    "    \n",
    "    # get the name of recipe\n",
    "    recipe_title = list(recipe.keys())[0]\n",
    "    ingredient_list = recipe[recipe_title]\n",
    "    \n",
    "    # pull kroger data for suggestions\n",
    "    for each in ingredient_list:\n",
    "        api_counter += 1\n",
    "        ingredient_dict = {}\n",
    "        [df_temp, access_token, refresh_token] = pull_product_data(each,resultlimit)\n",
    "        for i in range(0,df_temp.shape[0]):\n",
    "            upc_dict = {}\n",
    "            for info in upc_list_info:\n",
    "                upc = df_temp.loc[i,'itemId']\n",
    "                try:\n",
    "                    upc_dict[info] = df_temp.loc[i,info]\n",
    "                except:\n",
    "                    upc_dict[info] = np.nan\n",
    "            ingredient_dict[upc] = upc_dict  \n",
    "        \n",
    "        recipe_dict[each] = ingredient_dict\n",
    "    suggestions_dict[recipe_title] = recipe_dict       \n",
    "    \n",
    "    return suggestions_dict, api_counter, access_token, refresh_token"
   ]
  },
  {
   "cell_type": "markdown",
   "metadata": {},
   "source": [
    "##### Integration"
   ]
  },
  {
   "cell_type": "code",
   "execution_count": 11,
   "metadata": {},
   "outputs": [],
   "source": [
    "# Function to integrate all the code from retrieving recipes and return a dictionary result\n",
    "# The returned dictionary includes lots of recipes and relevant suggestions for purchase\n",
    "\n",
    "def integration(elapsed_time, result_limit): # elapsed_time to run script for a finite amount of time.\n",
    "    wait_time = 1  # crawl delay from Robots.txt\n",
    "    counter = 0\n",
    "    #max_counter = 4\n",
    "    api_counter = 0 # The Kroger API has a 10,000 call per day limit\n",
    "\n",
    "    start_time = time.perf_counter()\n",
    "    \n",
    "    url  = 'https://www.allrecipes.com/recipes/'  # URL to start the crawling\n",
    "    recipe_numbers = [] # list to keep track of the recipes numbers that are pulled\n",
    "    \n",
    "    # dictionary to include all recipes with suggestions\n",
    "    final_output = {}\n",
    "    \n",
    "    while True:\n",
    "        counter += 1\n",
    "\n",
    "        [url, recipe_numbers] = get_link(url, recipe_numbers)\n",
    "        ingredients_dict = get_ingredients(url)\n",
    "        [sug_dict, api_counter, access_token, refresh_token] = get_suggestions(ingredients_dict,result_limit, api_counter)\n",
    "        \n",
    "        # to pull all recipes with suggestions into one dictionary\n",
    "        final_output[list(sug_dict.keys())[0]] = list(sug_dict.values())[0]\n",
    "\n",
    "        time.sleep(wait_time)  \n",
    "\n",
    "        if api_counter >= 10000:  # Sleep the program if max api calls have been made\n",
    "            today = datetime.datetime.today()\n",
    "            future = datetime.datetime(today.year,today.month,today.day)\n",
    "            future += datetime.timedelta(days=1)\n",
    "\n",
    "            start_again = False\n",
    "\n",
    "            while start_again == False:\n",
    "                time.sleep(3600) #sleep for an hour\n",
    "                today = datetime.datetime.today()\n",
    "\n",
    "                if today == future: \n",
    "                    start_again = True\n",
    "\n",
    "        now = time.perf_counter()\n",
    "\n",
    "        if now - start_time >= elapsed_time: \n",
    "            break\n",
    "            \n",
    "    return final_output"
   ]
  },
  {
   "cell_type": "code",
   "execution_count": 12,
   "metadata": {
    "id": "3q0PqS4gkRU2"
   },
   "outputs": [],
   "source": [
    "# Function to convert the final output into dataframe\n",
    "\n",
    "def suggestions_df(suggestions):\n",
    "    suggestions_df = pd.DataFrame()\n",
    "    index = 0\n",
    "    for recipe in suggestions.keys():\n",
    "        for ingredient in suggestions[recipe].keys():\n",
    "            if suggestions[recipe][ingredient] == {}:\n",
    "                suggestions_df.loc[index,'recipe'] = recipe\n",
    "                suggestions_df.loc[index,'ingredient'] = ingredient\n",
    "                suggestions_df.loc[index,'upc'] = np.nan\n",
    "                index +=1\n",
    "            else:\n",
    "                for upc in suggestions[recipe][ingredient].keys():\n",
    "                    for info in suggestions[recipe][ingredient][upc].keys():\n",
    "                        suggestions_df.loc[index,'recipe'] = recipe\n",
    "                        suggestions_df.loc[index,'ingredient'] = ingredient\n",
    "                        suggestions_df.loc[index,'upc'] = upc\n",
    "                        suggestions_df.loc[index,info] = suggestions[recipe][ingredient][upc][info]\n",
    "                    index += 1  \n",
    "                \n",
    "    return suggestions_df"
   ]
  },
  {
   "cell_type": "markdown",
   "metadata": {
    "id": "Gfq0B9q7kRU2"
   },
   "source": [
    "### Demonstration"
   ]
  },
  {
   "cell_type": "markdown",
   "metadata": {
    "id": "I7lvZYv4kRU2"
   },
   "source": [
    "#### Obtain authorization to access Kroger API"
   ]
  },
  {
   "cell_type": "code",
   "execution_count": null,
   "metadata": {
    "colab": {
     "base_uri": "https://localhost:8080/"
    },
    "id": "vjDBuwtviHf-",
    "outputId": "554925df-d675-4c4b-c421-50a0f51a1ea4"
   },
   "outputs": [],
   "source": [
    "# Set Kroger API Access Information\n",
    "# The details have been hidden. Please refer to readme file for instructions on signing up for an \n",
    "# account for this info.\n",
    "client_id = ''\n",
    "client_secret = ''\n",
    "redirect_uri = 'http://localhost:8888'\n",
    "\n",
    "# Request authentication URL. After running this function, click on the link generated to be taken to your \n",
    "# redirect page for authentication code.\n",
    "kroger_auth(client_id,redirect_uri)\n",
    "\n",
    "# The link includes credentials so this cell's output has been cleared."
   ]
  },
  {
   "cell_type": "code",
   "execution_count": 14,
   "metadata": {
    "colab": {
     "base_uri": "https://localhost:8080/"
    },
    "id": "Y9_hmweMkRU3",
    "outputId": "be4ad46d-54e1-4223-a2e3-58aa9bf0a639"
   },
   "outputs": [],
   "source": [
    "# Request another authorization code in case of failure warning\n",
    "auth_code = 'RzKADIdax7qyK1NalUfzl18EteK7VTnVGc0SJsbV'\n",
    "# Get access token to Kroger API\n",
    "access = kroger_access(auth_code)"
   ]
  },
  {
   "cell_type": "code",
   "execution_count": 15,
   "metadata": {
    "id": "aYin-vztkRU3"
   },
   "outputs": [],
   "source": [
    "access_token = access[1]\n",
    "refresh_token = access[2]"
   ]
  },
  {
   "cell_type": "markdown",
   "metadata": {
    "id": "ie4RQ7wtkRU3"
   },
   "source": [
    "#### Integration"
   ]
  },
  {
   "cell_type": "code",
   "execution_count": 19,
   "metadata": {
    "colab": {
     "base_uri": "https://localhost:8080/",
     "height": 1000
    },
    "id": "ZxGT5n2wkRU5",
    "outputId": "c8ce98a0-c2cf-42c2-c25e-73401967534d"
   },
   "outputs": [],
   "source": [
    "inte_dict = integration(300, 2) # elapsed time = 300 seconds, result limit = 2\n",
    "inte_df = suggestions_df(inte_dict)"
   ]
  },
  {
   "cell_type": "code",
   "execution_count": 20,
   "metadata": {},
   "outputs": [
    {
     "data": {
      "text/plain": [
       "{'19037 Dessert Crepes Recipe ': {'eggs': {'0001111060933': {'description': 'Kroger® Grade A Large Eggs',\n",
       "    'price_regular': 1.18,\n",
       "    'size': '18 ct',\n",
       "    'soldBy': 'Unit'},\n",
       "   '0001111060903': {'description': 'Kroger® Grade A Large Eggs 12 Count',\n",
       "    'price_regular': 0.79,\n",
       "    'size': '12 ct',\n",
       "    'soldBy': 'Unit'}},\n",
       "  'milk': {'0001111041700': {'description': 'Kroger® 2% Reduced Fat Milk',\n",
       "    'price_regular': 2.79,\n",
       "    'size': '1 gal',\n",
       "    'soldBy': 'Unit'},\n",
       "   '0001111040101': {'description': 'Kroger® Vitamin D Whole Milk',\n",
       "    'price_regular': 2.79,\n",
       "    'size': '1 gal',\n",
       "    'soldBy': 'Unit'}},\n",
       "  'butter': {'0001111089301': {'description': 'Kroger® Salted Butter Sticks',\n",
       "    'price_regular': 3.29,\n",
       "    'size': '4 ct / 4 oz',\n",
       "    'soldBy': 'Unit'},\n",
       "   '0001111089305': {'description': 'Kroger® Unsalted Butter Sticks',\n",
       "    'price_regular': 3.29,\n",
       "    'size': '4 ct / 4 oz',\n",
       "    'soldBy': 'Unit'}},\n",
       "  'all-purpose flour': {'0001111086116': {'description': 'Kroger® Unbleached All Purpose Enriched Flour',\n",
       "    'price_regular': 1.49,\n",
       "    'size': '5 lb',\n",
       "    'soldBy': 'Unit'},\n",
       "   '0001600010610': {'description': 'Gold Medal All Purpose Flour',\n",
       "    'price_regular': 2.49,\n",
       "    'size': '5 lb',\n",
       "    'soldBy': 'Unit'}},\n",
       "  'white sugar': {'0004157327076': {'description': 'Bakery Fresh Goodness White Frosted Sugar Cookies 10 Count',\n",
       "    'price_regular': 3.99,\n",
       "    'size': '13.5 oz',\n",
       "    'soldBy': 'Unit'},\n",
       "   '0004000056332': {'description': \"M&M'S Holiday White Chocolate Sugar Cookie Christmas Candy\",\n",
       "    'price_regular': 3.89,\n",
       "    'size': '1 ct',\n",
       "    'soldBy': 'Unit'}},\n",
       "  'salt': {'0001111004808': {'description': 'Kroger® Iodized Salt',\n",
       "    'price_regular': 0.49,\n",
       "    'size': '26 oz',\n",
       "    'soldBy': 'Unit'},\n",
       "   '0002460001003': {'description': 'Morton Iodized Salt',\n",
       "    'price_regular': 0.99,\n",
       "    'size': '26 oz',\n",
       "    'soldBy': 'Unit'}}}}"
      ]
     },
     "execution_count": 20,
     "metadata": {},
     "output_type": "execute_result"
    }
   ],
   "source": [
    "dict(list(inte_dict.items())[:1])"
   ]
  },
  {
   "cell_type": "code",
   "execution_count": 21,
   "metadata": {},
   "outputs": [
    {
     "data": {
      "text/html": [
       "<div>\n",
       "<style scoped>\n",
       "    .dataframe tbody tr th:only-of-type {\n",
       "        vertical-align: middle;\n",
       "    }\n",
       "\n",
       "    .dataframe tbody tr th {\n",
       "        vertical-align: top;\n",
       "    }\n",
       "\n",
       "    .dataframe thead th {\n",
       "        text-align: right;\n",
       "    }\n",
       "</style>\n",
       "<table border=\"1\" class=\"dataframe\">\n",
       "  <thead>\n",
       "    <tr style=\"text-align: right;\">\n",
       "      <th></th>\n",
       "      <th>recipe</th>\n",
       "      <th>ingredient</th>\n",
       "      <th>upc</th>\n",
       "      <th>description</th>\n",
       "      <th>price_regular</th>\n",
       "      <th>size</th>\n",
       "      <th>soldBy</th>\n",
       "    </tr>\n",
       "  </thead>\n",
       "  <tbody>\n",
       "    <tr>\n",
       "      <th>0</th>\n",
       "      <td>19037 Dessert Crepes Recipe</td>\n",
       "      <td>eggs</td>\n",
       "      <td>0001111060933</td>\n",
       "      <td>Kroger® Grade A Large Eggs</td>\n",
       "      <td>1.18</td>\n",
       "      <td>18 ct</td>\n",
       "      <td>Unit</td>\n",
       "    </tr>\n",
       "    <tr>\n",
       "      <th>1</th>\n",
       "      <td>19037 Dessert Crepes Recipe</td>\n",
       "      <td>eggs</td>\n",
       "      <td>0001111060903</td>\n",
       "      <td>Kroger® Grade A Large Eggs 12 Count</td>\n",
       "      <td>0.79</td>\n",
       "      <td>12 ct</td>\n",
       "      <td>Unit</td>\n",
       "    </tr>\n",
       "    <tr>\n",
       "      <th>2</th>\n",
       "      <td>19037 Dessert Crepes Recipe</td>\n",
       "      <td>milk</td>\n",
       "      <td>0001111041700</td>\n",
       "      <td>Kroger® 2% Reduced Fat Milk</td>\n",
       "      <td>2.79</td>\n",
       "      <td>1 gal</td>\n",
       "      <td>Unit</td>\n",
       "    </tr>\n",
       "    <tr>\n",
       "      <th>3</th>\n",
       "      <td>19037 Dessert Crepes Recipe</td>\n",
       "      <td>milk</td>\n",
       "      <td>0001111040101</td>\n",
       "      <td>Kroger® Vitamin D Whole Milk</td>\n",
       "      <td>2.79</td>\n",
       "      <td>1 gal</td>\n",
       "      <td>Unit</td>\n",
       "    </tr>\n",
       "    <tr>\n",
       "      <th>4</th>\n",
       "      <td>19037 Dessert Crepes Recipe</td>\n",
       "      <td>butter</td>\n",
       "      <td>0001111089301</td>\n",
       "      <td>Kroger® Salted Butter Sticks</td>\n",
       "      <td>3.29</td>\n",
       "      <td>4 ct / 4 oz</td>\n",
       "      <td>Unit</td>\n",
       "    </tr>\n",
       "  </tbody>\n",
       "</table>\n",
       "</div>"
      ],
      "text/plain": [
       "                         recipe ingredient            upc  \\\n",
       "0  19037 Dessert Crepes Recipe        eggs  0001111060933   \n",
       "1  19037 Dessert Crepes Recipe        eggs  0001111060903   \n",
       "2  19037 Dessert Crepes Recipe        milk  0001111041700   \n",
       "3  19037 Dessert Crepes Recipe        milk  0001111040101   \n",
       "4  19037 Dessert Crepes Recipe      butter  0001111089301   \n",
       "\n",
       "                           description  price_regular         size soldBy  \n",
       "0           Kroger® Grade A Large Eggs           1.18        18 ct   Unit  \n",
       "1  Kroger® Grade A Large Eggs 12 Count           0.79        12 ct   Unit  \n",
       "2          Kroger® 2% Reduced Fat Milk           2.79        1 gal   Unit  \n",
       "3         Kroger® Vitamin D Whole Milk           2.79        1 gal   Unit  \n",
       "4         Kroger® Salted Butter Sticks           3.29  4 ct / 4 oz   Unit  "
      ]
     },
     "execution_count": 21,
     "metadata": {},
     "output_type": "execute_result"
    }
   ],
   "source": [
    "inte_df.head()"
   ]
  },
  {
   "cell_type": "code",
   "execution_count": null,
   "metadata": {},
   "outputs": [],
   "source": []
  }
 ],
 "metadata": {
  "colab": {
   "name": "Project - Final Submission.ipynb",
   "provenance": []
  },
  "kernelspec": {
   "display_name": "Python 3",
   "language": "python",
   "name": "python3"
  },
  "language_info": {
   "codemirror_mode": {
    "name": "ipython",
    "version": 3
   },
   "file_extension": ".py",
   "mimetype": "text/x-python",
   "name": "python",
   "nbconvert_exporter": "python",
   "pygments_lexer": "ipython3",
   "version": "3.7.6"
  }
 },
 "nbformat": 4,
 "nbformat_minor": 4
}
